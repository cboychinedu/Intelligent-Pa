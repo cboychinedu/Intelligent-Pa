{
 "cells": [
  {
   "cell_type": "code",
   "execution_count": 1,
   "metadata": {},
   "outputs": [],
   "source": [
    "#!/usr/bin/env python "
   ]
  },
  {
   "cell_type": "code",
   "execution_count": 43,
   "metadata": {},
   "outputs": [],
   "source": [
    "# Importing the necessary packages\n",
    "import re \n",
    "from subprocess import call \n",
    "import pandas as pd\n",
    "import seaborn as sn \n",
    "from matplotlib import pyplot as plt "
   ]
  },
  {
   "cell_type": "code",
   "execution_count": 45,
   "metadata": {},
   "outputs": [],
   "source": [
    "# Loading in some necessary variables and constants\n",
    "%matplotlib inline \n",
    "sn.set_palette('husl')\n",
    "\n",
    "# Opening the dataset and loading it into memory \n",
    "filename = 'inputdata.csv'\n",
    "with open(filename, 'r') as file:\n",
    "    data = file.read() "
   ]
  },
  {
   "cell_type": "code",
   "execution_count": 46,
   "metadata": {},
   "outputs": [
    {
     "data": {
      "text/plain": [
       "0"
      ]
     },
     "execution_count": 46,
     "metadata": {},
     "output_type": "execute_result"
    }
   ],
   "source": [
    "# Removing the old data set and Saving the filtered dataset into disk. \n",
    "call('rm -rf inputdata.csv', shell=True)"
   ]
  },
  {
   "cell_type": "code",
   "execution_count": 47,
   "metadata": {},
   "outputs": [],
   "source": [
    "data = data.replace(']', '').replace('[', '')\n",
    "data = data.replace(\"'\", \"\")\n",
    "\n",
    "# Saving the data into a new dataset\n",
    "new_dataset = 'inputdata.csv'\n",
    "with open(new_dataset, 'a+') as f:\n",
    "    f.write(data)\n",
    "    f.close() "
   ]
  },
  {
   "cell_type": "code",
   "execution_count": 48,
   "metadata": {},
   "outputs": [
    {
     "name": "stderr",
     "output_type": "stream",
     "text": [
      "b'Skipping line 10: expected 2 fields, saw 3\\nSkipping line 14: expected 2 fields, saw 3\\nSkipping line 15: expected 2 fields, saw 3\\nSkipping line 19: expected 2 fields, saw 3\\nSkipping line 20: expected 2 fields, saw 3\\nSkipping line 25: expected 2 fields, saw 3\\nSkipping line 26: expected 2 fields, saw 3\\nSkipping line 28: expected 2 fields, saw 3\\nSkipping line 32: expected 2 fields, saw 3\\nSkipping line 33: expected 2 fields, saw 3\\nSkipping line 35: expected 2 fields, saw 3\\nSkipping line 114: expected 2 fields, saw 3\\nSkipping line 116: expected 2 fields, saw 3\\nSkipping line 119: expected 2 fields, saw 3\\nSkipping line 121: expected 2 fields, saw 3\\nSkipping line 124: expected 2 fields, saw 3\\nSkipping line 126: expected 2 fields, saw 3\\nSkipping line 129: expected 2 fields, saw 3\\nSkipping line 133: expected 2 fields, saw 3\\nSkipping line 138: expected 2 fields, saw 3\\nSkipping line 144: expected 2 fields, saw 3\\nSkipping line 149: expected 2 fields, saw 3\\nSkipping line 151: expected 2 fields, saw 3\\nSkipping line 156: expected 2 fields, saw 3\\nSkipping line 163: expected 2 fields, saw 3\\nSkipping line 166: expected 2 fields, saw 3\\nSkipping line 170: expected 2 fields, saw 3\\nSkipping line 175: expected 2 fields, saw 3\\nSkipping line 178: expected 2 fields, saw 3\\nSkipping line 318: expected 2 fields, saw 3\\nSkipping line 320: expected 2 fields, saw 3\\nSkipping line 323: expected 2 fields, saw 3\\nSkipping line 327: expected 2 fields, saw 3\\nSkipping line 332: expected 2 fields, saw 3\\nSkipping line 338: expected 2 fields, saw 3\\nSkipping line 343: expected 2 fields, saw 3\\nSkipping line 346: expected 2 fields, saw 3\\nSkipping line 348: expected 2 fields, saw 3\\nSkipping line 351: expected 2 fields, saw 3\\nSkipping line 355: expected 2 fields, saw 3\\nSkipping line 368: expected 2 fields, saw 3\\nSkipping line 372: expected 2 fields, saw 3\\nSkipping line 377: expected 2 fields, saw 3\\nSkipping line 383: expected 2 fields, saw 3\\nSkipping line 390: expected 2 fields, saw 3\\nSkipping line 398: expected 2 fields, saw 3\\nSkipping line 455: expected 2 fields, saw 3\\nSkipping line 457: expected 2 fields, saw 3\\nSkipping line 460: expected 2 fields, saw 3\\nSkipping line 476: expected 2 fields, saw 3\\nSkipping line 778: expected 2 fields, saw 3\\nSkipping line 779: expected 2 fields, saw 3\\nSkipping line 781: expected 2 fields, saw 3\\nSkipping line 790: expected 2 fields, saw 3\\nSkipping line 817: expected 2 fields, saw 3\\nSkipping line 819: expected 2 fields, saw 3\\nSkipping line 823: expected 2 fields, saw 3\\nSkipping line 826: expected 2 fields, saw 3\\nSkipping line 828: expected 2 fields, saw 3\\nSkipping line 831: expected 2 fields, saw 3\\nSkipping line 835: expected 2 fields, saw 3\\nSkipping line 841: expected 2 fields, saw 3\\nSkipping line 843: expected 2 fields, saw 3\\nSkipping line 844: expected 2 fields, saw 3\\nSkipping line 846: expected 2 fields, saw 3\\nSkipping line 847: expected 2 fields, saw 3\\nSkipping line 869: expected 2 fields, saw 3\\nSkipping line 875: expected 2 fields, saw 3\\nSkipping line 882: expected 2 fields, saw 3\\nSkipping line 890: expected 2 fields, saw 3\\nSkipping line 896: expected 2 fields, saw 3\\nSkipping line 898: expected 2 fields, saw 3\\nSkipping line 901: expected 2 fields, saw 3\\nSkipping line 906: expected 2 fields, saw 3\\nSkipping line 908: expected 2 fields, saw 3\\nSkipping line 911: expected 2 fields, saw 3\\n'\n"
     ]
    }
   ],
   "source": [
    "# Filtering the dataset into two different labels (questions and conversation)\n",
    "df = pd.read_csv('inputdata.csv' , header=None, error_bad_lines=False)"
   ]
  },
  {
   "cell_type": "code",
   "execution_count": 49,
   "metadata": {},
   "outputs": [
    {
     "data": {
      "text/html": [
       "<div>\n",
       "<style scoped>\n",
       "    .dataframe tbody tr th:only-of-type {\n",
       "        vertical-align: middle;\n",
       "    }\n",
       "\n",
       "    .dataframe tbody tr th {\n",
       "        vertical-align: top;\n",
       "    }\n",
       "\n",
       "    .dataframe thead th {\n",
       "        text-align: right;\n",
       "    }\n",
       "</style>\n",
       "<table border=\"1\" class=\"dataframe\">\n",
       "  <thead>\n",
       "    <tr style=\"text-align: right;\">\n",
       "      <th></th>\n",
       "      <th>0</th>\n",
       "      <th>1</th>\n",
       "    </tr>\n",
       "  </thead>\n",
       "  <tbody>\n",
       "    <tr>\n",
       "      <td>0</td>\n",
       "      <td>conversation</td>\n",
       "      <td>hello</td>\n",
       "    </tr>\n",
       "    <tr>\n",
       "      <td>1</td>\n",
       "      <td>conversation</td>\n",
       "      <td>hello</td>\n",
       "    </tr>\n",
       "    <tr>\n",
       "      <td>2</td>\n",
       "      <td>conversation</td>\n",
       "      <td>how far</td>\n",
       "    </tr>\n",
       "    <tr>\n",
       "      <td>3</td>\n",
       "      <td>conversation</td>\n",
       "      <td>hello</td>\n",
       "    </tr>\n",
       "    <tr>\n",
       "      <td>4</td>\n",
       "      <td>conversation</td>\n",
       "      <td>how far</td>\n",
       "    </tr>\n",
       "    <tr>\n",
       "      <td>...</td>\n",
       "      <td>...</td>\n",
       "      <td>...</td>\n",
       "    </tr>\n",
       "    <tr>\n",
       "      <td>838</td>\n",
       "      <td>conversation</td>\n",
       "      <td>hello</td>\n",
       "    </tr>\n",
       "    <tr>\n",
       "      <td>839</td>\n",
       "      <td>question</td>\n",
       "      <td>what is my bank statement ?</td>\n",
       "    </tr>\n",
       "    <tr>\n",
       "      <td>840</td>\n",
       "      <td>conversation</td>\n",
       "      <td>hello</td>\n",
       "    </tr>\n",
       "    <tr>\n",
       "      <td>841</td>\n",
       "      <td>question</td>\n",
       "      <td>what is my bank statement ?</td>\n",
       "    </tr>\n",
       "    <tr>\n",
       "      <td>842</td>\n",
       "      <td>conversation</td>\n",
       "      <td>and how old are you aipa ?</td>\n",
       "    </tr>\n",
       "  </tbody>\n",
       "</table>\n",
       "<p>843 rows × 2 columns</p>\n",
       "</div>"
      ],
      "text/plain": [
       "                0                              1\n",
       "0    conversation                         hello \n",
       "1    conversation                         hello \n",
       "2    conversation                       how far \n",
       "3    conversation                         hello \n",
       "4    conversation                       how far \n",
       "..            ...                            ...\n",
       "838  conversation                         hello \n",
       "839      question   what is my bank statement ? \n",
       "840  conversation                         hello \n",
       "841      question   what is my bank statement ? \n",
       "842  conversation    and how old are you aipa ? \n",
       "\n",
       "[843 rows x 2 columns]"
      ]
     },
     "execution_count": 49,
     "metadata": {},
     "output_type": "execute_result"
    }
   ],
   "source": [
    "df"
   ]
  },
  {
   "cell_type": "code",
   "execution_count": 50,
   "metadata": {},
   "outputs": [],
   "source": [
    "# Converting the columns into labels and messages \n",
    "df.columns = ['label', 'message']"
   ]
  },
  {
   "cell_type": "code",
   "execution_count": 51,
   "metadata": {},
   "outputs": [
    {
     "data": {
      "text/plain": [
       "843"
      ]
     },
     "execution_count": 51,
     "metadata": {},
     "output_type": "execute_result"
    }
   ],
   "source": [
    "# Samples for the conversation and question dataset.\n",
    "df['label'].count() \n",
    "df['message'].count() "
   ]
  },
  {
   "cell_type": "code",
   "execution_count": 56,
   "metadata": {},
   "outputs": [
    {
     "data": {
      "text/html": [
       "<div>\n",
       "<style scoped>\n",
       "    .dataframe tbody tr th:only-of-type {\n",
       "        vertical-align: middle;\n",
       "    }\n",
       "\n",
       "    .dataframe tbody tr th {\n",
       "        vertical-align: top;\n",
       "    }\n",
       "\n",
       "    .dataframe thead tr th {\n",
       "        text-align: left;\n",
       "    }\n",
       "\n",
       "    .dataframe thead tr:last-of-type th {\n",
       "        text-align: right;\n",
       "    }\n",
       "</style>\n",
       "<table border=\"1\" class=\"dataframe\">\n",
       "  <thead>\n",
       "    <tr>\n",
       "      <th></th>\n",
       "      <th colspan=\"4\" halign=\"left\">label</th>\n",
       "    </tr>\n",
       "    <tr>\n",
       "      <th></th>\n",
       "      <th>count</th>\n",
       "      <th>unique</th>\n",
       "      <th>top</th>\n",
       "      <th>freq</th>\n",
       "    </tr>\n",
       "    <tr>\n",
       "      <th>message</th>\n",
       "      <th></th>\n",
       "      <th></th>\n",
       "      <th></th>\n",
       "      <th></th>\n",
       "    </tr>\n",
       "  </thead>\n",
       "  <tbody>\n",
       "    <tr>\n",
       "      <td>absolutely yeah</td>\n",
       "      <td>12</td>\n",
       "      <td>1</td>\n",
       "      <td>conversation</td>\n",
       "      <td>12</td>\n",
       "    </tr>\n",
       "    <tr>\n",
       "      <td>am great</td>\n",
       "      <td>13</td>\n",
       "      <td>1</td>\n",
       "      <td>conversation</td>\n",
       "      <td>13</td>\n",
       "    </tr>\n",
       "    <tr>\n",
       "      <td>and how old are you aipa ?</td>\n",
       "      <td>1</td>\n",
       "      <td>1</td>\n",
       "      <td>conversation</td>\n",
       "      <td>1</td>\n",
       "    </tr>\n",
       "    <tr>\n",
       "      <td>and where am i located now  ?</td>\n",
       "      <td>2</td>\n",
       "      <td>1</td>\n",
       "      <td>question</td>\n",
       "      <td>2</td>\n",
       "    </tr>\n",
       "    <tr>\n",
       "      <td>define neurons ?</td>\n",
       "      <td>2</td>\n",
       "      <td>1</td>\n",
       "      <td>question</td>\n",
       "      <td>2</td>\n",
       "    </tr>\n",
       "    <tr>\n",
       "      <td>...</td>\n",
       "      <td>...</td>\n",
       "      <td>...</td>\n",
       "      <td>...</td>\n",
       "      <td>...</td>\n",
       "    </tr>\n",
       "    <tr>\n",
       "      <td>yeah</td>\n",
       "      <td>11</td>\n",
       "      <td>1</td>\n",
       "      <td>conversation</td>\n",
       "      <td>11</td>\n",
       "    </tr>\n",
       "    <tr>\n",
       "      <td>yeah sure</td>\n",
       "      <td>16</td>\n",
       "      <td>1</td>\n",
       "      <td>conversation</td>\n",
       "      <td>16</td>\n",
       "    </tr>\n",
       "    <tr>\n",
       "      <td>yeha sure</td>\n",
       "      <td>17</td>\n",
       "      <td>1</td>\n",
       "      <td>question</td>\n",
       "      <td>17</td>\n",
       "    </tr>\n",
       "    <tr>\n",
       "      <td>yes</td>\n",
       "      <td>1</td>\n",
       "      <td>1</td>\n",
       "      <td>conversation</td>\n",
       "      <td>1</td>\n",
       "    </tr>\n",
       "    <tr>\n",
       "      <td>yes i know</td>\n",
       "      <td>6</td>\n",
       "      <td>1</td>\n",
       "      <td>conversation</td>\n",
       "      <td>6</td>\n",
       "    </tr>\n",
       "  </tbody>\n",
       "</table>\n",
       "<p>106 rows × 4 columns</p>\n",
       "</div>"
      ],
      "text/plain": [
       "                                label                          \n",
       "                                count unique           top freq\n",
       "message                                                        \n",
       " absolutely yeah                   12      1  conversation   12\n",
       " am great                          13      1  conversation   13\n",
       " and how old are you aipa ?         1      1  conversation    1\n",
       " and where am i located now  ?      2      1      question    2\n",
       " define neurons ?                   2      1      question    2\n",
       "...                               ...    ...           ...  ...\n",
       " yeah                              11      1  conversation   11\n",
       " yeah sure                         16      1  conversation   16\n",
       " yeha sure                         17      1      question   17\n",
       " yes                                1      1  conversation    1\n",
       " yes i know                         6      1  conversation    6\n",
       "\n",
       "[106 rows x 4 columns]"
      ]
     },
     "execution_count": 56,
     "metadata": {},
     "output_type": "execute_result"
    }
   ],
   "source": [
    "# \n",
    "df.groupby('message').describe() "
   ]
  },
  {
   "cell_type": "code",
   "execution_count": 54,
   "metadata": {},
   "outputs": [
    {
     "data": {
      "image/png": "[encoded data removed]",
      "text/plain": [
       "<Figure size 432x288 with 1 Axes>"
      ]
     },
     "metadata": {
      "needs_background": "light"
     },
     "output_type": "display_data"
    }
   ],
   "source": [
    "sn.countplot(data=df, x='message')\n",
    "plt.show() "
   ]
  },
  {
   "cell_type": "code",
   "execution_count": 55,
   "metadata": {},
   "outputs": [
    {
     "data": {
      "image/png": "[encoded data removed]",
      "text/plain": [
       "<Figure size 432x288 with 1 Axes>"
      ]
     },
     "metadata": {
      "needs_background": "light"
     },
     "output_type": "display_data"
    }
   ],
   "source": [
    "sn.countplot(data=df, x='label')\n",
    "plt.show() "
   ]
  },
  {
   "cell_type": "code",
   "execution_count": 57,
   "metadata": {},
   "outputs": [],
   "source": [
    "# Cleaning the text\n",
    "import string \n",
    "from nltk.corpus import stopwords \n",
    "from nltk import PorterStemmer as Stemmer\n",
    "def process(text):\n",
    "    # turn the texts into lowercase\n",
    "    text = text.lower() \n",
    "    # remove punctuation\n",
    "    text = ''.join([t for t in text if t not in string.punctuation])\n",
    "    # remove stopwords \n",
    "    text = [t for t in text.split() if t not in stopwords.words('english')]\n",
    "    # Stemming the words \n",
    "    stemmer = Stemmer() \n",
    "    text = [stemmer.stem(t) for t in text]\n",
    "    # Return the token list \n",
    "    return text "
   ]
  },
  {
   "cell_type": "code",
   "execution_count": 58,
   "metadata": {},
   "outputs": [],
   "source": [
    "# Building a model \n",
    "from sklearn.feature_extraction.text import TfidfVectorizer"
   ]
  },
  {
   "cell_type": "code",
   "execution_count": 59,
   "metadata": {},
   "outputs": [],
   "source": [
    "tfidfv = TfidfVectorizer(analyzer = process)"
   ]
  },
  {
   "cell_type": "code",
   "execution_count": 60,
   "metadata": {},
   "outputs": [],
   "source": [
    "from sklearn.pipeline import Pipeline \n",
    "from sklearn.naive_bayes import MultinomialNB \n",
    "model = Pipeline([\n",
    "    ('vectorizer', TfidfVectorizer(analyzer=process)),\n",
    "     ('classifier', MultinomialNB())\n",
    "    \n",
    "])"
   ]
  },
  {
   "cell_type": "code",
   "execution_count": 61,
   "metadata": {},
   "outputs": [],
   "source": [
    "# performing a training and a spliting test \n",
    "from sklearn.model_selection import train_test_split \n",
    "x_train, x_test, y_train, y_test = train_test_split(df['message'], df['label'], test_size=0.20, random_state = 21)"
   ]
  },
  {
   "cell_type": "code",
   "execution_count": 62,
   "metadata": {},
   "outputs": [
    {
     "data": {
      "text/plain": [
       "Pipeline(memory=None,\n",
       "         steps=[('vectorizer',\n",
       "                 TfidfVectorizer(analyzer=<function process at 0x7f0ba766ed90>,\n",
       "                                 binary=False, decode_error='strict',\n",
       "                                 dtype=<class 'numpy.float64'>,\n",
       "                                 encoding='utf-8', input='content',\n",
       "                                 lowercase=True, max_df=1.0, max_features=None,\n",
       "                                 min_df=1, ngram_range=(1, 1), norm='l2',\n",
       "                                 preprocessor=None, smooth_idf=True,\n",
       "                                 stop_words=None, strip_accents=None,\n",
       "                                 sublinear_tf=False,\n",
       "                                 token_pattern='(?u)\\\\b\\\\w\\\\w+\\\\b',\n",
       "                                 tokenizer=None, use_idf=True,\n",
       "                                 vocabulary=None)),\n",
       "                ('classifier',\n",
       "                 MultinomialNB(alpha=1.0, class_prior=None, fit_prior=True))],\n",
       "         verbose=False)"
      ]
     },
     "execution_count": 62,
     "metadata": {},
     "output_type": "execute_result"
    }
   ],
   "source": [
    "model.fit(x_train, y_train)"
   ]
  },
  {
   "cell_type": "code",
   "execution_count": 63,
   "metadata": {},
   "outputs": [
    {
     "data": {
      "text/plain": [
       "0.9526627218934911"
      ]
     },
     "execution_count": 63,
     "metadata": {},
     "output_type": "execute_result"
    }
   ],
   "source": [
    "predictions = model.predict(x_test)\n",
    "model.score(x_test, y_test)"
   ]
  },
  {
   "cell_type": "code",
   "execution_count": 74,
   "metadata": {},
   "outputs": [],
   "source": [
    "# Defining a function to run and use the model for classfication.\n",
    "def detect_conversation(s):\n",
    "    result = model.predict([s])[0]\n",
    "    #return result\n",
    "\n",
    "detect_conversation('so um, how old are you today ? ')"
   ]
  },
  {
   "cell_type": "code",
   "execution_count": 75,
   "metadata": {},
   "outputs": [
    {
     "data": {
      "text/plain": [
       "458                  how much do i have in my account ? \n",
       "313     so define or tell me what a neuron is pleasee...\n",
       "65                                 how is your family ? \n",
       "71                                        how are you ? \n",
       "397                                           how far ? \n",
       "                             ...                        \n",
       "301                                           okay nice \n",
       "694                              so how are you today ? \n",
       "292                                           ok thanks \n",
       "794                                    i am good thanks \n",
       "713                             how is your day going ? \n",
       "Name: message, Length: 169, dtype: object"
      ]
     },
     "execution_count": 75,
     "metadata": {},
     "output_type": "execute_result"
    }
   ],
   "source": []
  },
  {
   "cell_type": "code",
   "execution_count": null,
   "metadata": {},
   "outputs": [],
   "source": []
  }
 ],
 "metadata": {
  "kernelspec": {
   "display_name": "Python 3",
   "language": "python",
   "name": "python3"
  },
  "language_info": {
   "codemirror_mode": {
    "name": "ipython",
    "version": 3
   },
   "file_extension": ".py",
   "mimetype": "text/x-python",
   "name": "python",
   "nbconvert_exporter": "python",
   "pygments_lexer": "ipython3",
   "version": "3.6.9"
  }
 },
 "nbformat": 4,
 "nbformat_minor": 4
}
