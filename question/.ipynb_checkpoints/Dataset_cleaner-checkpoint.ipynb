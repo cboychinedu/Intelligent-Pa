{
 "cells": [
  {
   "cell_type": "markdown",
   "metadata": {},
   "source": [
    "# Naive Bayes (the easy way)"
   ]
  },
  {
   "cell_type": "markdown",
   "metadata": {},
   "source": [
    "We'll cheat by using sklearn.naive_bayes to train a spam classifier! Most of the code is just loading our training data into a pandas DataFrame that we can play with:"
   ]
  },
  {
   "cell_type": "code",
   "execution_count": 1,
   "metadata": {},
   "outputs": [],
   "source": [
    "import numpy as np\n",
    "import pandas as pd\n",
    "import seaborn as sns\n",
    "sns.set_palette('husl')\n",
    "import matplotlib.pyplot as plt\n",
    "%matplotlib inline"
   ]
  },
  {
   "cell_type": "markdown",
   "metadata": {},
   "source": [
    "Let's have a look at that DataFrame:"
   ]
  },
  {
   "cell_type": "code",
   "execution_count": 2,
   "metadata": {},
   "outputs": [],
   "source": [
    "import numpy as np \n",
    "import pandas as pd \n",
    "import matplotlib.pyplot as plt \n",
    "import seaborn as sns "
   ]
  },
  {
   "cell_type": "code",
   "execution_count": 4,
   "metadata": {},
   "outputs": [],
   "source": [
    "#df = pd.read_csv('dataset.csv', encoding='latin-1')\n",
    "\n",
    "df = pd.read_csv('new_dataset.csv' ,header=None,error_bad_lines=False)"
   ]
  },
  {
   "cell_type": "code",
   "execution_count": 5,
   "metadata": {},
   "outputs": [
    {
     "data": {
      "text/html": [
       "<div>\n",
       "<style scoped>\n",
       "    .dataframe tbody tr th:only-of-type {\n",
       "        vertical-align: middle;\n",
       "    }\n",
       "\n",
       "    .dataframe tbody tr th {\n",
       "        vertical-align: top;\n",
       "    }\n",
       "\n",
       "    .dataframe thead th {\n",
       "        text-align: right;\n",
       "    }\n",
       "</style>\n",
       "<table border=\"1\" class=\"dataframe\">\n",
       "  <thead>\n",
       "    <tr style=\"text-align: right;\">\n",
       "      <th></th>\n",
       "      <th>0</th>\n",
       "      <th>1</th>\n",
       "    </tr>\n",
       "  </thead>\n",
       "  <tbody>\n",
       "    <tr>\n",
       "      <td>0</td>\n",
       "      <td>wiki_question</td>\n",
       "      <td>define electrons</td>\n",
       "    </tr>\n",
       "    <tr>\n",
       "      <td>1</td>\n",
       "      <td>location</td>\n",
       "      <td>where is my location</td>\n",
       "    </tr>\n",
       "    <tr>\n",
       "      <td>2</td>\n",
       "      <td>location</td>\n",
       "      <td>where am i located</td>\n",
       "    </tr>\n",
       "    <tr>\n",
       "      <td>3</td>\n",
       "      <td>location</td>\n",
       "      <td>find my current location okay</td>\n",
       "    </tr>\n",
       "    <tr>\n",
       "      <td>4</td>\n",
       "      <td>location</td>\n",
       "      <td>where is my location</td>\n",
       "    </tr>\n",
       "    <tr>\n",
       "      <td>5</td>\n",
       "      <td>bank_details</td>\n",
       "      <td>what is my bank statement ?</td>\n",
       "    </tr>\n",
       "    <tr>\n",
       "      <td>6</td>\n",
       "      <td>bank_details</td>\n",
       "      <td>i want to know my bank details or statement</td>\n",
       "    </tr>\n",
       "    <tr>\n",
       "      <td>7</td>\n",
       "      <td>location</td>\n",
       "      <td>find my location</td>\n",
       "    </tr>\n",
       "    <tr>\n",
       "      <td>8</td>\n",
       "      <td>location</td>\n",
       "      <td>where am i located</td>\n",
       "    </tr>\n",
       "    <tr>\n",
       "      <td>9</td>\n",
       "      <td>location</td>\n",
       "      <td>find my location please okay</td>\n",
       "    </tr>\n",
       "    <tr>\n",
       "      <td>10</td>\n",
       "      <td>wiki_question</td>\n",
       "      <td>tell me about fela anikuti</td>\n",
       "    </tr>\n",
       "    <tr>\n",
       "      <td>11</td>\n",
       "      <td>wiki_question</td>\n",
       "      <td>locate this place</td>\n",
       "    </tr>\n",
       "    <tr>\n",
       "      <td>12</td>\n",
       "      <td>bank_details</td>\n",
       "      <td>what is my bank statement</td>\n",
       "    </tr>\n",
       "    <tr>\n",
       "      <td>13</td>\n",
       "      <td>bank_details</td>\n",
       "      <td>my account balance please</td>\n",
       "    </tr>\n",
       "    <tr>\n",
       "      <td>14</td>\n",
       "      <td>wiki_question</td>\n",
       "      <td>find this</td>\n",
       "    </tr>\n",
       "    <tr>\n",
       "      <td>15</td>\n",
       "      <td>wiki_question</td>\n",
       "      <td>where is it located</td>\n",
       "    </tr>\n",
       "    <tr>\n",
       "      <td>16</td>\n",
       "      <td>bank_details</td>\n",
       "      <td>i want to see my bank statement</td>\n",
       "    </tr>\n",
       "    <tr>\n",
       "      <td>17</td>\n",
       "      <td>bank_details</td>\n",
       "      <td>show me my bank transaction</td>\n",
       "    </tr>\n",
       "    <tr>\n",
       "      <td>18</td>\n",
       "      <td>bank_details</td>\n",
       "      <td>show me my account balance</td>\n",
       "    </tr>\n",
       "    <tr>\n",
       "      <td>19</td>\n",
       "      <td>bank_details</td>\n",
       "      <td>what is my account balance</td>\n",
       "    </tr>\n",
       "    <tr>\n",
       "      <td>20</td>\n",
       "      <td>bank_details</td>\n",
       "      <td>please what is my account balance</td>\n",
       "    </tr>\n",
       "    <tr>\n",
       "      <td>21</td>\n",
       "      <td>bank_details</td>\n",
       "      <td>i want to see my bank account balance</td>\n",
       "    </tr>\n",
       "    <tr>\n",
       "      <td>22</td>\n",
       "      <td>wiki_question</td>\n",
       "      <td>where is it</td>\n",
       "    </tr>\n",
       "    <tr>\n",
       "      <td>23</td>\n",
       "      <td>wiki_question</td>\n",
       "      <td>how can i find this</td>\n",
       "    </tr>\n",
       "    <tr>\n",
       "      <td>24</td>\n",
       "      <td>wiki_question</td>\n",
       "      <td>i need to know</td>\n",
       "    </tr>\n",
       "    <tr>\n",
       "      <td>25</td>\n",
       "      <td>wiki_question</td>\n",
       "      <td>help me find</td>\n",
       "    </tr>\n",
       "    <tr>\n",
       "      <td>26</td>\n",
       "      <td>wiki_question</td>\n",
       "      <td>search on</td>\n",
       "    </tr>\n",
       "    <tr>\n",
       "      <td>27</td>\n",
       "      <td>wiki_question</td>\n",
       "      <td>what are elecrons ?</td>\n",
       "    </tr>\n",
       "    <tr>\n",
       "      <td>28</td>\n",
       "      <td>wiki_question</td>\n",
       "      <td>what are cells ?</td>\n",
       "    </tr>\n",
       "    <tr>\n",
       "      <td>29</td>\n",
       "      <td>wiki_question</td>\n",
       "      <td>tell me about how the planet works ?</td>\n",
       "    </tr>\n",
       "    <tr>\n",
       "      <td>30</td>\n",
       "      <td>wiki_question</td>\n",
       "      <td>tell me how cells work</td>\n",
       "    </tr>\n",
       "    <tr>\n",
       "      <td>31</td>\n",
       "      <td>wiki_question</td>\n",
       "      <td>tell me about a neuron</td>\n",
       "    </tr>\n",
       "    <tr>\n",
       "      <td>32</td>\n",
       "      <td>wiki_question</td>\n",
       "      <td>tell me how a cell structure works</td>\n",
       "    </tr>\n",
       "    <tr>\n",
       "      <td>33</td>\n",
       "      <td>wiki_question</td>\n",
       "      <td>tell me the coup in nigeria</td>\n",
       "    </tr>\n",
       "    <tr>\n",
       "      <td>34</td>\n",
       "      <td>bank_details</td>\n",
       "      <td>how much is in my account now ?</td>\n",
       "    </tr>\n",
       "    <tr>\n",
       "      <td>35</td>\n",
       "      <td>bank_details</td>\n",
       "      <td>how much do i have in my account now ?</td>\n",
       "    </tr>\n",
       "    <tr>\n",
       "      <td>36</td>\n",
       "      <td>wiki_question</td>\n",
       "      <td>tell me the meaning of the word physcopath</td>\n",
       "    </tr>\n",
       "    <tr>\n",
       "      <td>37</td>\n",
       "      <td>wiki_question</td>\n",
       "      <td>tell me how to locate italy in the world map</td>\n",
       "    </tr>\n",
       "    <tr>\n",
       "      <td>38</td>\n",
       "      <td>wiki_question</td>\n",
       "      <td>describe how evolution works</td>\n",
       "    </tr>\n",
       "    <tr>\n",
       "      <td>39</td>\n",
       "      <td>wiki_question</td>\n",
       "      <td>describe the meaning of how the atom works</td>\n",
       "    </tr>\n",
       "    <tr>\n",
       "      <td>40</td>\n",
       "      <td>wiki_question</td>\n",
       "      <td>is nigeria the only nation in africa ?</td>\n",
       "    </tr>\n",
       "    <tr>\n",
       "      <td>41</td>\n",
       "      <td>wiki_question</td>\n",
       "      <td>how can i find a single atom that has only 1 ...</td>\n",
       "    </tr>\n",
       "  </tbody>\n",
       "</table>\n",
       "</div>"
      ],
      "text/plain": [
       "                0                                                  1\n",
       "0   wiki_question                                   define electrons\n",
       "1        location                               where is my location\n",
       "2        location                                 where am i located\n",
       "3        location                      find my current location okay\n",
       "4        location                               where is my location\n",
       "5    bank_details                        what is my bank statement ?\n",
       "6    bank_details        i want to know my bank details or statement\n",
       "7        location                                   find my location\n",
       "8        location                                 where am i located\n",
       "9        location                       find my location please okay\n",
       "10  wiki_question                         tell me about fela anikuti\n",
       "11  wiki_question                                  locate this place\n",
       "12   bank_details                          what is my bank statement\n",
       "13   bank_details                          my account balance please\n",
       "14  wiki_question                                          find this\n",
       "15  wiki_question                                where is it located\n",
       "16   bank_details                    i want to see my bank statement\n",
       "17   bank_details                        show me my bank transaction\n",
       "18   bank_details                         show me my account balance\n",
       "19   bank_details                         what is my account balance\n",
       "20   bank_details                  please what is my account balance\n",
       "21   bank_details              i want to see my bank account balance\n",
       "22  wiki_question                                        where is it\n",
       "23  wiki_question                                how can i find this\n",
       "24  wiki_question                                     i need to know\n",
       "25  wiki_question                                       help me find\n",
       "26  wiki_question                                          search on\n",
       "27  wiki_question                                what are elecrons ?\n",
       "28  wiki_question                                   what are cells ?\n",
       "29  wiki_question               tell me about how the planet works ?\n",
       "30  wiki_question                             tell me how cells work\n",
       "31  wiki_question                             tell me about a neuron\n",
       "32  wiki_question                 tell me how a cell structure works\n",
       "33  wiki_question                        tell me the coup in nigeria\n",
       "34   bank_details                    how much is in my account now ?\n",
       "35   bank_details            how much do i have in my account now ? \n",
       "36  wiki_question         tell me the meaning of the word physcopath\n",
       "37  wiki_question       tell me how to locate italy in the world map\n",
       "38  wiki_question                       describe how evolution works\n",
       "39  wiki_question         describe the meaning of how the atom works\n",
       "40  wiki_question             is nigeria the only nation in africa ?\n",
       "41  wiki_question   how can i find a single atom that has only 1 ..."
      ]
     },
     "execution_count": 5,
     "metadata": {},
     "output_type": "execute_result"
    }
   ],
   "source": [
    "#df.drop([2, 3, 4, 5, 6, 7], axis = 1, inplace = True)\n",
    "df"
   ]
  },
  {
   "cell_type": "code",
   "execution_count": 6,
   "metadata": {},
   "outputs": [],
   "source": [
    "df.count() \n",
    "df.columns = ['label', 'message']"
   ]
  },
  {
   "cell_type": "code",
   "execution_count": 7,
   "metadata": {},
   "outputs": [
    {
     "data": {
      "text/plain": [
       "wiki_question    23\n",
       "bank_details     12\n",
       "location          7\n",
       "Name: label, dtype: int64"
      ]
     },
     "execution_count": 7,
     "metadata": {},
     "output_type": "execute_result"
    }
   ],
   "source": [
    "df['label'].value_counts() "
   ]
  },
  {
   "cell_type": "code",
   "execution_count": null,
   "metadata": {},
   "outputs": [],
   "source": []
  },
  {
   "cell_type": "code",
   "execution_count": 8,
   "metadata": {},
   "outputs": [
    {
     "data": {
      "text/html": [
       "<div>\n",
       "<style scoped>\n",
       "    .dataframe tbody tr th:only-of-type {\n",
       "        vertical-align: middle;\n",
       "    }\n",
       "\n",
       "    .dataframe tbody tr th {\n",
       "        vertical-align: top;\n",
       "    }\n",
       "\n",
       "    .dataframe thead tr th {\n",
       "        text-align: left;\n",
       "    }\n",
       "\n",
       "    .dataframe thead tr:last-of-type th {\n",
       "        text-align: right;\n",
       "    }\n",
       "</style>\n",
       "<table border=\"1\" class=\"dataframe\">\n",
       "  <thead>\n",
       "    <tr>\n",
       "      <th></th>\n",
       "      <th colspan=\"4\" halign=\"left\">message</th>\n",
       "    </tr>\n",
       "    <tr>\n",
       "      <th></th>\n",
       "      <th>count</th>\n",
       "      <th>unique</th>\n",
       "      <th>top</th>\n",
       "      <th>freq</th>\n",
       "    </tr>\n",
       "    <tr>\n",
       "      <th>label</th>\n",
       "      <th></th>\n",
       "      <th></th>\n",
       "      <th></th>\n",
       "      <th></th>\n",
       "    </tr>\n",
       "  </thead>\n",
       "  <tbody>\n",
       "    <tr>\n",
       "      <td>bank_details</td>\n",
       "      <td>12</td>\n",
       "      <td>12</td>\n",
       "      <td>i want to see my bank statement</td>\n",
       "      <td>1</td>\n",
       "    </tr>\n",
       "    <tr>\n",
       "      <td>location</td>\n",
       "      <td>7</td>\n",
       "      <td>5</td>\n",
       "      <td>where am i located</td>\n",
       "      <td>2</td>\n",
       "    </tr>\n",
       "    <tr>\n",
       "      <td>wiki_question</td>\n",
       "      <td>23</td>\n",
       "      <td>23</td>\n",
       "      <td>how can i find a single atom that has only 1 ...</td>\n",
       "      <td>1</td>\n",
       "    </tr>\n",
       "  </tbody>\n",
       "</table>\n",
       "</div>"
      ],
      "text/plain": [
       "              message         \\\n",
       "                count unique   \n",
       "label                          \n",
       "bank_details       12     12   \n",
       "location            7      5   \n",
       "wiki_question      23     23   \n",
       "\n",
       "                                                                       \n",
       "                                                             top freq  \n",
       "label                                                                  \n",
       "bank_details                     i want to see my bank statement    1  \n",
       "location                                      where am i located    2  \n",
       "wiki_question   how can i find a single atom that has only 1 ...    1  "
      ]
     },
     "execution_count": 8,
     "metadata": {},
     "output_type": "execute_result"
    }
   ],
   "source": [
    "# Describing the dataset containing conversaions, and question.\n",
    "df.groupby('label').describe() "
   ]
  },
  {
   "cell_type": "code",
   "execution_count": 9,
   "metadata": {},
   "outputs": [
    {
     "data": {
      "image/png": "[encoded data removed]",
      "text/plain": [
       "<Figure size 432x288 with 1 Axes>"
      ]
     },
     "metadata": {
      "needs_background": "light"
     },
     "output_type": "display_data"
    }
   ],
   "source": [
    "sns.countplot(data=df, x='label')\n",
    "plt.show() "
   ]
  },
  {
   "cell_type": "code",
   "execution_count": 10,
   "metadata": {},
   "outputs": [
    {
     "data": {
      "text/html": [
       "<div>\n",
       "<style scoped>\n",
       "    .dataframe tbody tr th:only-of-type {\n",
       "        vertical-align: middle;\n",
       "    }\n",
       "\n",
       "    .dataframe tbody tr th {\n",
       "        vertical-align: top;\n",
       "    }\n",
       "\n",
       "    .dataframe thead th {\n",
       "        text-align: right;\n",
       "    }\n",
       "</style>\n",
       "<table border=\"1\" class=\"dataframe\">\n",
       "  <thead>\n",
       "    <tr style=\"text-align: right;\">\n",
       "      <th></th>\n",
       "      <th>label</th>\n",
       "      <th>message</th>\n",
       "    </tr>\n",
       "  </thead>\n",
       "  <tbody>\n",
       "    <tr>\n",
       "      <td>0</td>\n",
       "      <td>wiki_question</td>\n",
       "      <td>define electrons</td>\n",
       "    </tr>\n",
       "    <tr>\n",
       "      <td>1</td>\n",
       "      <td>location</td>\n",
       "      <td>where is my location</td>\n",
       "    </tr>\n",
       "    <tr>\n",
       "      <td>2</td>\n",
       "      <td>location</td>\n",
       "      <td>where am i located</td>\n",
       "    </tr>\n",
       "    <tr>\n",
       "      <td>3</td>\n",
       "      <td>location</td>\n",
       "      <td>find my current location okay</td>\n",
       "    </tr>\n",
       "    <tr>\n",
       "      <td>4</td>\n",
       "      <td>location</td>\n",
       "      <td>where is my location</td>\n",
       "    </tr>\n",
       "    <tr>\n",
       "      <td>5</td>\n",
       "      <td>bank_details</td>\n",
       "      <td>what is my bank statement ?</td>\n",
       "    </tr>\n",
       "    <tr>\n",
       "      <td>6</td>\n",
       "      <td>bank_details</td>\n",
       "      <td>i want to know my bank details or statement</td>\n",
       "    </tr>\n",
       "    <tr>\n",
       "      <td>7</td>\n",
       "      <td>location</td>\n",
       "      <td>find my location</td>\n",
       "    </tr>\n",
       "    <tr>\n",
       "      <td>8</td>\n",
       "      <td>location</td>\n",
       "      <td>where am i located</td>\n",
       "    </tr>\n",
       "    <tr>\n",
       "      <td>9</td>\n",
       "      <td>location</td>\n",
       "      <td>find my location please okay</td>\n",
       "    </tr>\n",
       "    <tr>\n",
       "      <td>10</td>\n",
       "      <td>wiki_question</td>\n",
       "      <td>tell me about fela anikuti</td>\n",
       "    </tr>\n",
       "    <tr>\n",
       "      <td>11</td>\n",
       "      <td>wiki_question</td>\n",
       "      <td>locate this place</td>\n",
       "    </tr>\n",
       "    <tr>\n",
       "      <td>12</td>\n",
       "      <td>bank_details</td>\n",
       "      <td>what is my bank statement</td>\n",
       "    </tr>\n",
       "    <tr>\n",
       "      <td>13</td>\n",
       "      <td>bank_details</td>\n",
       "      <td>my account balance please</td>\n",
       "    </tr>\n",
       "    <tr>\n",
       "      <td>14</td>\n",
       "      <td>wiki_question</td>\n",
       "      <td>find this</td>\n",
       "    </tr>\n",
       "    <tr>\n",
       "      <td>15</td>\n",
       "      <td>wiki_question</td>\n",
       "      <td>where is it located</td>\n",
       "    </tr>\n",
       "    <tr>\n",
       "      <td>16</td>\n",
       "      <td>bank_details</td>\n",
       "      <td>i want to see my bank statement</td>\n",
       "    </tr>\n",
       "    <tr>\n",
       "      <td>17</td>\n",
       "      <td>bank_details</td>\n",
       "      <td>show me my bank transaction</td>\n",
       "    </tr>\n",
       "    <tr>\n",
       "      <td>18</td>\n",
       "      <td>bank_details</td>\n",
       "      <td>show me my account balance</td>\n",
       "    </tr>\n",
       "    <tr>\n",
       "      <td>19</td>\n",
       "      <td>bank_details</td>\n",
       "      <td>what is my account balance</td>\n",
       "    </tr>\n",
       "    <tr>\n",
       "      <td>20</td>\n",
       "      <td>bank_details</td>\n",
       "      <td>please what is my account balance</td>\n",
       "    </tr>\n",
       "    <tr>\n",
       "      <td>21</td>\n",
       "      <td>bank_details</td>\n",
       "      <td>i want to see my bank account balance</td>\n",
       "    </tr>\n",
       "    <tr>\n",
       "      <td>22</td>\n",
       "      <td>wiki_question</td>\n",
       "      <td>where is it</td>\n",
       "    </tr>\n",
       "    <tr>\n",
       "      <td>23</td>\n",
       "      <td>wiki_question</td>\n",
       "      <td>how can i find this</td>\n",
       "    </tr>\n",
       "    <tr>\n",
       "      <td>24</td>\n",
       "      <td>wiki_question</td>\n",
       "      <td>i need to know</td>\n",
       "    </tr>\n",
       "    <tr>\n",
       "      <td>25</td>\n",
       "      <td>wiki_question</td>\n",
       "      <td>help me find</td>\n",
       "    </tr>\n",
       "    <tr>\n",
       "      <td>26</td>\n",
       "      <td>wiki_question</td>\n",
       "      <td>search on</td>\n",
       "    </tr>\n",
       "    <tr>\n",
       "      <td>27</td>\n",
       "      <td>wiki_question</td>\n",
       "      <td>what are elecrons ?</td>\n",
       "    </tr>\n",
       "    <tr>\n",
       "      <td>28</td>\n",
       "      <td>wiki_question</td>\n",
       "      <td>what are cells ?</td>\n",
       "    </tr>\n",
       "    <tr>\n",
       "      <td>29</td>\n",
       "      <td>wiki_question</td>\n",
       "      <td>tell me about how the planet works ?</td>\n",
       "    </tr>\n",
       "    <tr>\n",
       "      <td>30</td>\n",
       "      <td>wiki_question</td>\n",
       "      <td>tell me how cells work</td>\n",
       "    </tr>\n",
       "    <tr>\n",
       "      <td>31</td>\n",
       "      <td>wiki_question</td>\n",
       "      <td>tell me about a neuron</td>\n",
       "    </tr>\n",
       "    <tr>\n",
       "      <td>32</td>\n",
       "      <td>wiki_question</td>\n",
       "      <td>tell me how a cell structure works</td>\n",
       "    </tr>\n",
       "    <tr>\n",
       "      <td>33</td>\n",
       "      <td>wiki_question</td>\n",
       "      <td>tell me the coup in nigeria</td>\n",
       "    </tr>\n",
       "    <tr>\n",
       "      <td>34</td>\n",
       "      <td>bank_details</td>\n",
       "      <td>how much is in my account now ?</td>\n",
       "    </tr>\n",
       "    <tr>\n",
       "      <td>35</td>\n",
       "      <td>bank_details</td>\n",
       "      <td>how much do i have in my account now ?</td>\n",
       "    </tr>\n",
       "    <tr>\n",
       "      <td>36</td>\n",
       "      <td>wiki_question</td>\n",
       "      <td>tell me the meaning of the word physcopath</td>\n",
       "    </tr>\n",
       "    <tr>\n",
       "      <td>37</td>\n",
       "      <td>wiki_question</td>\n",
       "      <td>tell me how to locate italy in the world map</td>\n",
       "    </tr>\n",
       "    <tr>\n",
       "      <td>38</td>\n",
       "      <td>wiki_question</td>\n",
       "      <td>describe how evolution works</td>\n",
       "    </tr>\n",
       "    <tr>\n",
       "      <td>39</td>\n",
       "      <td>wiki_question</td>\n",
       "      <td>describe the meaning of how the atom works</td>\n",
       "    </tr>\n",
       "    <tr>\n",
       "      <td>40</td>\n",
       "      <td>wiki_question</td>\n",
       "      <td>is nigeria the only nation in africa ?</td>\n",
       "    </tr>\n",
       "    <tr>\n",
       "      <td>41</td>\n",
       "      <td>wiki_question</td>\n",
       "      <td>how can i find a single atom that has only 1 ...</td>\n",
       "    </tr>\n",
       "  </tbody>\n",
       "</table>\n",
       "</div>"
      ],
      "text/plain": [
       "            label                                            message\n",
       "0   wiki_question                                   define electrons\n",
       "1        location                               where is my location\n",
       "2        location                                 where am i located\n",
       "3        location                      find my current location okay\n",
       "4        location                               where is my location\n",
       "5    bank_details                        what is my bank statement ?\n",
       "6    bank_details        i want to know my bank details or statement\n",
       "7        location                                   find my location\n",
       "8        location                                 where am i located\n",
       "9        location                       find my location please okay\n",
       "10  wiki_question                         tell me about fela anikuti\n",
       "11  wiki_question                                  locate this place\n",
       "12   bank_details                          what is my bank statement\n",
       "13   bank_details                          my account balance please\n",
       "14  wiki_question                                          find this\n",
       "15  wiki_question                                where is it located\n",
       "16   bank_details                    i want to see my bank statement\n",
       "17   bank_details                        show me my bank transaction\n",
       "18   bank_details                         show me my account balance\n",
       "19   bank_details                         what is my account balance\n",
       "20   bank_details                  please what is my account balance\n",
       "21   bank_details              i want to see my bank account balance\n",
       "22  wiki_question                                        where is it\n",
       "23  wiki_question                                how can i find this\n",
       "24  wiki_question                                     i need to know\n",
       "25  wiki_question                                       help me find\n",
       "26  wiki_question                                          search on\n",
       "27  wiki_question                                what are elecrons ?\n",
       "28  wiki_question                                   what are cells ?\n",
       "29  wiki_question               tell me about how the planet works ?\n",
       "30  wiki_question                             tell me how cells work\n",
       "31  wiki_question                             tell me about a neuron\n",
       "32  wiki_question                 tell me how a cell structure works\n",
       "33  wiki_question                        tell me the coup in nigeria\n",
       "34   bank_details                    how much is in my account now ?\n",
       "35   bank_details            how much do i have in my account now ? \n",
       "36  wiki_question         tell me the meaning of the word physcopath\n",
       "37  wiki_question       tell me how to locate italy in the world map\n",
       "38  wiki_question                       describe how evolution works\n",
       "39  wiki_question         describe the meaning of how the atom works\n",
       "40  wiki_question             is nigeria the only nation in africa ?\n",
       "41  wiki_question   how can i find a single atom that has only 1 ..."
      ]
     },
     "execution_count": 10,
     "metadata": {},
     "output_type": "execute_result"
    }
   ],
   "source": [
    "df.head(1000) "
   ]
  },
  {
   "cell_type": "code",
   "execution_count": 11,
   "metadata": {},
   "outputs": [],
   "source": [
    "# Cleaning the text\n",
    "import string \n",
    "from nltk.corpus import stopwords \n",
    "from nltk import PorterStemmer as Stemmer\n",
    "def process(text):\n",
    "    # turn the texts into lowercase\n",
    "    text = text.lower() \n",
    "    # remove punctuation\n",
    "    text = ''.join([t for t in text if t not in string.punctuation])\n",
    "    # remove stopwords \n",
    "    text = [t for t in text.split() if t not in stopwords.words('english')]\n",
    "    # Stemming the words \n",
    "    stemmer = Stemmer() \n",
    "    text = [stemmer.stem(t) for t in text]\n",
    "    # Return the token list \n",
    "    return text "
   ]
  },
  {
   "cell_type": "markdown",
   "metadata": {},
   "source": [
    "Let's try it out:"
   ]
  },
  {
   "cell_type": "code",
   "execution_count": 12,
   "metadata": {},
   "outputs": [
    {
     "data": {
      "text/plain": [
       "['holiday', 'play', 'cricket', 'jeff', 'play', 'well']"
      ]
     },
     "execution_count": 12,
     "metadata": {},
     "output_type": "execute_result"
    }
   ],
   "source": [
    "# testing the function \n",
    "process('it is a holiday, and we are playing cricket. jeff is playing very well')"
   ]
  },
  {
   "cell_type": "code",
   "execution_count": 13,
   "metadata": {},
   "outputs": [
    {
     "data": {
      "text/plain": [
       "0                         [defin, electron]\n",
       "1                                   [locat]\n",
       "2                                   [locat]\n",
       "3              [find, current, locat, okay]\n",
       "4                                   [locat]\n",
       "5                         [bank, statement]\n",
       "6     [want, know, bank, detail, statement]\n",
       "7                             [find, locat]\n",
       "8                                   [locat]\n",
       "9                [find, locat, pleas, okay]\n",
       "10                    [tell, fela, anikuti]\n",
       "11                           [locat, place]\n",
       "12                        [bank, statement]\n",
       "13                 [account, balanc, pleas]\n",
       "14                                   [find]\n",
       "15                                  [locat]\n",
       "16             [want, see, bank, statement]\n",
       "17                   [show, bank, transact]\n",
       "18                  [show, account, balanc]\n",
       "19                        [account, balanc]\n",
       "Name: message, dtype: object"
      ]
     },
     "execution_count": 13,
     "metadata": {},
     "output_type": "execute_result"
    }
   ],
   "source": [
    "# Testing it against our dataset\n",
    "df['message'][:20].apply(process)"
   ]
  },
  {
   "cell_type": "code",
   "execution_count": 14,
   "metadata": {},
   "outputs": [],
   "source": [
    "# \n",
    "from sklearn.feature_extraction.text import TfidfVectorizer"
   ]
  },
  {
   "cell_type": "code",
   "execution_count": 15,
   "metadata": {},
   "outputs": [],
   "source": [
    "tfidfv = TfidfVectorizer(analyzer = process)\n",
    "data = tfidfv.fit_transform(df['message'])"
   ]
  },
  {
   "cell_type": "code",
   "execution_count": 16,
   "metadata": {},
   "outputs": [
    {
     "name": "stdout",
     "output_type": "stream",
     "text": [
      " where am i located\n"
     ]
    }
   ],
   "source": [
    "mess_id = df.iloc[2]['message']\n",
    "print(mess_id)"
   ]
  },
  {
   "cell_type": "code",
   "execution_count": 17,
   "metadata": {},
   "outputs": [
    {
     "name": "stdout",
     "output_type": "stream",
     "text": [
      "  (0, 21)\t1.0\n"
     ]
    }
   ],
   "source": [
    "print(tfidfv.transform([mess_id]))"
   ]
  },
  {
   "cell_type": "code",
   "execution_count": 18,
   "metadata": {},
   "outputs": [],
   "source": [
    "## Building a model \n",
    "from sklearn.pipeline import Pipeline \n",
    "from sklearn.naive_bayes import MultinomialNB \n",
    "model = Pipeline([\n",
    "    ('vectorizer', TfidfVectorizer(analyzer=process)),\n",
    "     ('classifier', MultinomialNB())\n",
    "    \n",
    "])"
   ]
  },
  {
   "cell_type": "code",
   "execution_count": 19,
   "metadata": {},
   "outputs": [],
   "source": [
    "# performing a training and a spliting test \n",
    "from sklearn.model_selection import train_test_split \n",
    "x_train, x_test, y_train, y_test = train_test_split(df['message'], df['label'], test_size=0.20, random_state = 21)"
   ]
  },
  {
   "cell_type": "code",
   "execution_count": 20,
   "metadata": {},
   "outputs": [
    {
     "data": {
      "text/plain": [
       "Pipeline(memory=None,\n",
       "         steps=[('vectorizer',\n",
       "                 TfidfVectorizer(analyzer=<function process at 0x7fe9ec134158>,\n",
       "                                 binary=False, decode_error='strict',\n",
       "                                 dtype=<class 'numpy.float64'>,\n",
       "                                 encoding='utf-8', input='content',\n",
       "                                 lowercase=True, max_df=1.0, max_features=None,\n",
       "                                 min_df=1, ngram_range=(1, 1), norm='l2',\n",
       "                                 preprocessor=None, smooth_idf=True,\n",
       "                                 stop_words=None, strip_accents=None,\n",
       "                                 sublinear_tf=False,\n",
       "                                 token_pattern='(?u)\\\\b\\\\w\\\\w+\\\\b',\n",
       "                                 tokenizer=None, use_idf=True,\n",
       "                                 vocabulary=None)),\n",
       "                ('classifier',\n",
       "                 MultinomialNB(alpha=1.0, class_prior=None, fit_prior=True))],\n",
       "         verbose=False)"
      ]
     },
     "execution_count": 20,
     "metadata": {},
     "output_type": "execute_result"
    }
   ],
   "source": [
    "# Training the Spam filter \n",
    "model.fit(x_train, y_train)"
   ]
  },
  {
   "cell_type": "code",
   "execution_count": 21,
   "metadata": {},
   "outputs": [
    {
     "data": {
      "text/plain": [
       "0.7777777777777778"
      ]
     },
     "execution_count": 21,
     "metadata": {},
     "output_type": "execute_result"
    }
   ],
   "source": [
    "predictions = model.predict(x_test)\n",
    "model.score(x_test, y_test)"
   ]
  },
  {
   "cell_type": "code",
   "execution_count": 25,
   "metadata": {
    "scrolled": true
   },
   "outputs": [
    {
     "name": "stdout",
     "output_type": "stream",
     "text": [
      "wiki_question\n"
     ]
    }
   ],
   "source": [
    "# Defining a function to run and use the model for classfication.\n",
    "def detect_conversation(s):\n",
    "    result = model.predict([s])[0]\n",
    "    #return result\n",
    "    print(result)\n",
    "\n",
    "detect_conversation('find my location ')"
   ]
  },
  {
   "cell_type": "code",
   "execution_count": 52,
   "metadata": {},
   "outputs": [
    {
     "name": "stdout",
     "output_type": "stream",
     "text": [
      "greeting\n",
      "task\n"
     ]
    }
   ],
   "source": [
    "value = ['hello, how far', 'can you find out who that person is?']\n",
    "for i in value:\n",
    "    detect_conversation(i)"
   ]
  },
  {
   "cell_type": "code",
   "execution_count": 23,
   "metadata": {},
   "outputs": [],
   "source": [
    "# Saving the pickle file into memory \n",
    "import pickle \n",
    "filename = 'question_model.pkl'"
   ]
  },
  {
   "cell_type": "code",
   "execution_count": 24,
   "metadata": {},
   "outputs": [
    {
     "name": "stdout",
     "output_type": "stream",
     "text": [
      "0.6153846153846154\n"
     ]
    }
   ],
   "source": [
    "# save the model to disk\n",
    "pickle.dump(model, open(filename, 'wb'))\n",
    " \n",
    "# some time later...\n",
    " \n",
    "# load the model from disk\n",
    "loaded_model = pickle.load(open(filename, 'rb'))\n",
    "result = loaded_model.score(x_test, y_test)\n",
    "print(result)"
   ]
  },
  {
   "cell_type": "code",
   "execution_count": 25,
   "metadata": {},
   "outputs": [],
   "source": [
    "# Saving the model to disk \n",
    "pickle.dump([df, model], open(filename, 'wb'))"
   ]
  },
  {
   "cell_type": "code",
   "execution_count": 54,
   "metadata": {},
   "outputs": [
    {
     "name": "stdout",
     "output_type": "stream",
     "text": [
      "0.8095238095238095\n"
     ]
    }
   ],
   "source": [
    "from sklearn.externals import joblib\n",
    "\n",
    "# save the model to disk\n",
    "filename = 'finalized_model.sav'\n",
    "joblib.dump(model, filename)\n",
    " \n",
    "# some time later...\n",
    " \n",
    "# load the model from disk\n",
    "loaded_model = joblib.load(filename)\n",
    "result = loaded_model.score(x_test, y_test)\n",
    "print(result)"
   ]
  },
  {
   "cell_type": "code",
   "execution_count": 64,
   "metadata": {},
   "outputs": [],
   "source": [
    "from sklearn.externals import joblib\n",
    "# save the model to disk\n",
    "filename = 'finalized_model.sav'\n",
    " \n",
    "# load the model from disk\n",
    "model = joblib.load(filename)"
   ]
  },
  {
   "cell_type": "code",
   "execution_count": 65,
   "metadata": {},
   "outputs": [
    {
     "data": {
      "text/plain": [
       "'task'"
      ]
     },
     "execution_count": 65,
     "metadata": {},
     "output_type": "execute_result"
    }
   ],
   "source": [
    "model.predict(['what can you do ?'])[0]"
   ]
  },
  {
   "cell_type": "code",
   "execution_count": 28,
   "metadata": {},
   "outputs": [
    {
     "name": "stdout",
     "output_type": "stream",
     "text": [
      "0.2857142857142857\n"
     ]
    }
   ],
   "source": [
    "from sklearn.externals import joblib\n",
    "# load the model from disk\n",
    "loaded_model = joblib.load(filename)\n",
    "result = loaded_model.score(x_test, y_test)\n",
    "print(result)"
   ]
  },
  {
   "cell_type": "code",
   "execution_count": 23,
   "metadata": {},
   "outputs": [
    {
     "name": "stdout",
     "output_type": "stream",
     "text": [
      "Requirement already satisfied: joblib in /home/blackbox/anaconda3/lib/python3.6/site-packages (0.13.2)\r\n"
     ]
    }
   ],
   "source": [
    "! pip install joblib"
   ]
  },
  {
   "cell_type": "code",
   "execution_count": null,
   "metadata": {},
   "outputs": [],
   "source": []
  }
 ],
 "metadata": {
  "kernelspec": {
   "display_name": "Python 3",
   "language": "python",
   "name": "python3"
  },
  "language_info": {
   "codemirror_mode": {
    "name": "ipython",
    "version": 3
   },
   "file_extension": ".py",
   "mimetype": "text/x-python",
   "name": "python",
   "nbconvert_exporter": "python",
   "pygments_lexer": "ipython3",
   "version": "3.6.9"
  }
 },
 "nbformat": 4,
 "nbformat_minor": 4
}
